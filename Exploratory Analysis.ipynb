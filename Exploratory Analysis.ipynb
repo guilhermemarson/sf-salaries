{
 "cells": [
  {
   "cell_type": "code",
   "execution_count": 609,
   "metadata": {
    "collapsed": false
   },
   "outputs": [],
   "source": [
    "\n",
    "import pandas as pd\n",
    "import seaborn as sns\n",
    "import numpy as np\n",
    "from pylab import plot, show, rcParams, legend, bar, barh, xlabel, ylabel, title, xticks, yticks, axhline\n",
    "from pandas import set_option, DataFrame\n",
    "set_option(\"display.max_rows\", 5)\n",
    "import matplotlib.pyplot as plt\n",
    "\n",
    "\n"
   ]
  },
  {
   "cell_type": "code",
   "execution_count": 610,
   "metadata": {
    "collapsed": false
   },
   "outputs": [],
   "source": [
    "salaries = pd.read_csv(\"input/Salaries.csv\", dtype='unicode')"
   ]
  },
  {
   "cell_type": "raw",
   "metadata": {},
   "source": [
    "Salaries.csv\n",
    "\n",
    "Id\n",
    "EmployeeName\n",
    "JobTitle\n",
    "BasePay\n",
    "OvertimePay\n",
    "OtherPay\n",
    "Benefits\n",
    "TotalPay\n",
    "TotalPayBenefits\n",
    "Year\n",
    "Notes\n",
    "Agency\n",
    "Status"
   ]
  },
  {
   "cell_type": "raw",
   "metadata": {},
   "source": [
    "How have salaries changed over time between different groups of people?\n"
   ]
  },
  {
   "cell_type": "code",
   "execution_count": 611,
   "metadata": {
    "collapsed": false
   },
   "outputs": [
    {
     "data": {
      "text/plain": [
       "(148654, 13)"
      ]
     },
     "execution_count": 611,
     "metadata": {},
     "output_type": "execute_result"
    }
   ],
   "source": [
    "salaries.shape"
   ]
  },
  {
   "cell_type": "markdown",
   "metadata": {},
   "source": [
    "### Start analysing columns data"
   ]
  },
  {
   "cell_type": "code",
   "execution_count": 612,
   "metadata": {
    "collapsed": false
   },
   "outputs": [
    {
     "data": {
      "text/html": [
       "<div>\n",
       "<table border=\"1\" class=\"dataframe\">\n",
       "  <thead>\n",
       "    <tr style=\"text-align: right;\">\n",
       "      <th></th>\n",
       "      <th>Id</th>\n",
       "      <th>EmployeeName</th>\n",
       "      <th>JobTitle</th>\n",
       "      <th>BasePay</th>\n",
       "      <th>OvertimePay</th>\n",
       "      <th>OtherPay</th>\n",
       "      <th>Benefits</th>\n",
       "      <th>TotalPay</th>\n",
       "      <th>TotalPayBenefits</th>\n",
       "      <th>Year</th>\n",
       "      <th>Notes</th>\n",
       "      <th>Agency</th>\n",
       "      <th>Status</th>\n",
       "    </tr>\n",
       "  </thead>\n",
       "  <tbody>\n",
       "    <tr>\n",
       "      <th>148646</th>\n",
       "      <td>148647</td>\n",
       "      <td>Not provided</td>\n",
       "      <td>Not provided</td>\n",
       "      <td>Not Provided</td>\n",
       "      <td>Not Provided</td>\n",
       "      <td>Not Provided</td>\n",
       "      <td>Not Provided</td>\n",
       "      <td>0.0</td>\n",
       "      <td>0.0</td>\n",
       "      <td>2014</td>\n",
       "      <td>NaN</td>\n",
       "      <td>San Francisco</td>\n",
       "      <td>NaN</td>\n",
       "    </tr>\n",
       "    <tr>\n",
       "      <th>148650</th>\n",
       "      <td>148651</td>\n",
       "      <td>Not provided</td>\n",
       "      <td>Not provided</td>\n",
       "      <td>Not Provided</td>\n",
       "      <td>Not Provided</td>\n",
       "      <td>Not Provided</td>\n",
       "      <td>Not Provided</td>\n",
       "      <td>0.0</td>\n",
       "      <td>0.0</td>\n",
       "      <td>2014</td>\n",
       "      <td>NaN</td>\n",
       "      <td>San Francisco</td>\n",
       "      <td>NaN</td>\n",
       "    </tr>\n",
       "    <tr>\n",
       "      <th>148651</th>\n",
       "      <td>148652</td>\n",
       "      <td>Not provided</td>\n",
       "      <td>Not provided</td>\n",
       "      <td>Not Provided</td>\n",
       "      <td>Not Provided</td>\n",
       "      <td>Not Provided</td>\n",
       "      <td>Not Provided</td>\n",
       "      <td>0.0</td>\n",
       "      <td>0.0</td>\n",
       "      <td>2014</td>\n",
       "      <td>NaN</td>\n",
       "      <td>San Francisco</td>\n",
       "      <td>NaN</td>\n",
       "    </tr>\n",
       "    <tr>\n",
       "      <th>148652</th>\n",
       "      <td>148653</td>\n",
       "      <td>Not provided</td>\n",
       "      <td>Not provided</td>\n",
       "      <td>Not Provided</td>\n",
       "      <td>Not Provided</td>\n",
       "      <td>Not Provided</td>\n",
       "      <td>Not Provided</td>\n",
       "      <td>0.0</td>\n",
       "      <td>0.0</td>\n",
       "      <td>2014</td>\n",
       "      <td>NaN</td>\n",
       "      <td>San Francisco</td>\n",
       "      <td>NaN</td>\n",
       "    </tr>\n",
       "  </tbody>\n",
       "</table>\n",
       "</div>"
      ],
      "text/plain": [
       "            Id  EmployeeName      JobTitle       BasePay   OvertimePay  \\\n",
       "148646  148647  Not provided  Not provided  Not Provided  Not Provided   \n",
       "148650  148651  Not provided  Not provided  Not Provided  Not Provided   \n",
       "148651  148652  Not provided  Not provided  Not Provided  Not Provided   \n",
       "148652  148653  Not provided  Not provided  Not Provided  Not Provided   \n",
       "\n",
       "            OtherPay      Benefits TotalPay TotalPayBenefits  Year Notes  \\\n",
       "148646  Not Provided  Not Provided      0.0              0.0  2014   NaN   \n",
       "148650  Not Provided  Not Provided      0.0              0.0  2014   NaN   \n",
       "148651  Not Provided  Not Provided      0.0              0.0  2014   NaN   \n",
       "148652  Not Provided  Not Provided      0.0              0.0  2014   NaN   \n",
       "\n",
       "               Agency Status  \n",
       "148646  San Francisco    NaN  \n",
       "148650  San Francisco    NaN  \n",
       "148651  San Francisco    NaN  \n",
       "148652  San Francisco    NaN  "
      ]
     },
     "execution_count": 612,
     "metadata": {},
     "output_type": "execute_result"
    }
   ],
   "source": [
    "salaries.ix[salaries.EmployeeName=='Not provided']"
   ]
  },
  {
   "cell_type": "markdown",
   "metadata": {},
   "source": [
    "There are 4 lines that do not bring any useful information, so drop it"
   ]
  },
  {
   "cell_type": "code",
   "execution_count": 613,
   "metadata": {
    "collapsed": false
   },
   "outputs": [],
   "source": [
    "salaries = salaries.ix[salaries.EmployeeName!='Not provided']"
   ]
  },
  {
   "cell_type": "code",
   "execution_count": 614,
   "metadata": {
    "collapsed": false
   },
   "outputs": [
    {
     "name": "stdout",
     "output_type": "stream",
     "text": [
      "Unique values for column Year: ['2011', '2012', '2013', '2014']\n",
      "Unique values for column Notes: [nan]\n",
      "Unique values for column Agency: ['San Francisco']\n",
      "Unique values for column Status: [nan, 'PT', 'FT']\n"
     ]
    }
   ],
   "source": [
    "for columns in salaries.columns:\n",
    "    if len(salaries[columns].unique())<10:\n",
    "        print('Unique values for column ' + columns + ': ' + str(list(salaries[columns].unique())))"
   ]
  },
  {
   "cell_type": "markdown",
   "metadata": {},
   "source": [
    "Notes is null, so drop it"
   ]
  },
  {
   "cell_type": "code",
   "execution_count": 615,
   "metadata": {
    "collapsed": false
   },
   "outputs": [],
   "source": [
    "del salaries['Notes']"
   ]
  },
  {
   "cell_type": "markdown",
   "metadata": {},
   "source": [
    "Agency is constant=='San Francisco', so drop it"
   ]
  },
  {
   "cell_type": "code",
   "execution_count": 616,
   "metadata": {
    "collapsed": true
   },
   "outputs": [],
   "source": [
    "del salaries['Agency']"
   ]
  },
  {
   "cell_type": "code",
   "execution_count": 617,
   "metadata": {
    "collapsed": false
   },
   "outputs": [],
   "source": [
    "basepay = salaries.ix[:,['Year', 'BasePay']]"
   ]
  },
  {
   "cell_type": "code",
   "execution_count": 618,
   "metadata": {
    "collapsed": false
   },
   "outputs": [
    {
     "data": {
      "text/plain": [
       "(148650, 2)"
      ]
     },
     "execution_count": 618,
     "metadata": {},
     "output_type": "execute_result"
    }
   ],
   "source": [
    "basepay.shape"
   ]
  },
  {
   "cell_type": "code",
   "execution_count": 619,
   "metadata": {
    "collapsed": false
   },
   "outputs": [],
   "source": [
    "basepay.BasePay = basepay.BasePay.astype(float)"
   ]
  },
  {
   "cell_type": "code",
   "execution_count": 620,
   "metadata": {
    "collapsed": false
   },
   "outputs": [
    {
     "data": {
      "text/html": [
       "<div>\n",
       "<table border=\"1\" class=\"dataframe\">\n",
       "  <thead>\n",
       "    <tr style=\"text-align: right;\">\n",
       "      <th></th>\n",
       "      <th>Year</th>\n",
       "      <th>BasePay</th>\n",
       "    </tr>\n",
       "  </thead>\n",
       "  <tbody>\n",
       "    <tr>\n",
       "      <th>0</th>\n",
       "      <td>2011</td>\n",
       "      <td>167411.18</td>\n",
       "    </tr>\n",
       "    <tr>\n",
       "      <th>1</th>\n",
       "      <td>2011</td>\n",
       "      <td>155966.02</td>\n",
       "    </tr>\n",
       "    <tr>\n",
       "      <th>...</th>\n",
       "      <td>...</td>\n",
       "      <td>...</td>\n",
       "    </tr>\n",
       "    <tr>\n",
       "      <th>148649</th>\n",
       "      <td>2014</td>\n",
       "      <td>0.00</td>\n",
       "    </tr>\n",
       "    <tr>\n",
       "      <th>148653</th>\n",
       "      <td>2014</td>\n",
       "      <td>0.00</td>\n",
       "    </tr>\n",
       "  </tbody>\n",
       "</table>\n",
       "<p>148650 rows × 2 columns</p>\n",
       "</div>"
      ],
      "text/plain": [
       "        Year    BasePay\n",
       "0       2011  167411.18\n",
       "1       2011  155966.02\n",
       "...      ...        ...\n",
       "148649  2014       0.00\n",
       "148653  2014       0.00\n",
       "\n",
       "[148650 rows x 2 columns]"
      ]
     },
     "execution_count": 620,
     "metadata": {},
     "output_type": "execute_result"
    }
   ],
   "source": [
    "basepay"
   ]
  },
  {
   "cell_type": "code",
   "execution_count": 621,
   "metadata": {
    "collapsed": false
   },
   "outputs": [],
   "source": [
    "basepay = DataFrame(basepay.groupby(by=['Year']).mean()).reset_index()\n"
   ]
  },
  {
   "cell_type": "code",
   "execution_count": 622,
   "metadata": {
    "collapsed": false
   },
   "outputs": [
    {
     "data": {
      "text/html": [
       "<div>\n",
       "<table border=\"1\" class=\"dataframe\">\n",
       "  <thead>\n",
       "    <tr style=\"text-align: right;\">\n",
       "      <th></th>\n",
       "      <th>Year</th>\n",
       "      <th>BasePay</th>\n",
       "    </tr>\n",
       "  </thead>\n",
       "  <tbody>\n",
       "    <tr>\n",
       "      <th>0</th>\n",
       "      <td>2011</td>\n",
       "      <td>63595.956517</td>\n",
       "    </tr>\n",
       "    <tr>\n",
       "      <th>1</th>\n",
       "      <td>2012</td>\n",
       "      <td>65436.406857</td>\n",
       "    </tr>\n",
       "    <tr>\n",
       "      <th>2</th>\n",
       "      <td>2013</td>\n",
       "      <td>69630.030216</td>\n",
       "    </tr>\n",
       "    <tr>\n",
       "      <th>3</th>\n",
       "      <td>2014</td>\n",
       "      <td>66564.421924</td>\n",
       "    </tr>\n",
       "  </tbody>\n",
       "</table>\n",
       "</div>"
      ],
      "text/plain": [
       "   Year       BasePay\n",
       "0  2011  63595.956517\n",
       "1  2012  65436.406857\n",
       "2  2013  69630.030216\n",
       "3  2014  66564.421924"
      ]
     },
     "execution_count": 622,
     "metadata": {},
     "output_type": "execute_result"
    }
   ],
   "source": [
    "basepay"
   ]
  },
  {
   "cell_type": "code",
   "execution_count": 623,
   "metadata": {
    "collapsed": false
   },
   "outputs": [
    {
     "data": {
      "text/plain": [
       "<matplotlib.axes._subplots.AxesSubplot at 0x7f614d1dd898>"
      ]
     },
     "execution_count": 623,
     "metadata": {},
     "output_type": "execute_result"
    },
    {
     "data": {
      "image/png": "[encoded data removed]",
      "text/plain": [
       "<matplotlib.figure.Figure at 0x7f614d1d4b38>"
      ]
     },
     "metadata": {},
     "output_type": "display_data"
    }
   ],
   "source": [
    "basepay.plot(x = 'Year', figsize=[8,6], legend=True, title=\"Salaries per Year\")"
   ]
  },
  {
   "cell_type": "code",
   "execution_count": 624,
   "metadata": {
    "collapsed": false
   },
   "outputs": [
    {
     "data": {
      "text/plain": [
       "<matplotlib.lines.Line2D at 0x7f614d14f358>"
      ]
     },
     "execution_count": 624,
     "metadata": {},
     "output_type": "execute_result"
    },
    {
     "data": {
      "image/png": "[encoded data removed]",
      "text/plain": [
       "<matplotlib.figure.Figure at 0x7f614d1d5278>"
      ]
     },
     "metadata": {},
     "output_type": "display_data"
    }
   ],
   "source": [
    "ind = np.arange(4)\n",
    "width = 0.35\n",
    "bar(ind, basepay.BasePay.unique().astype(int), width, color=sns.color_palette(\"Set2\", 4), align='center')\n",
    "xlabel('Years')\n",
    "ylabel('Basepay mean')\n",
    "title('Salaries per Year')\n",
    "xticks(ind  , basepay.Year.unique())\n",
    "\n",
    "axhline(basepay.BasePay.mean(), color='red', linewidth=0.5) #Mean\n"
   ]
  },
  {
   "cell_type": "markdown",
   "metadata": {},
   "source": [
    "Considering all salaries, we can see that in 2014, their mean decreased"
   ]
  },
  {
   "cell_type": "code",
   "execution_count": 625,
   "metadata": {
    "collapsed": false
   },
   "outputs": [],
   "source": [
    "JobTitle = DataFrame(salaries['JobTitle'].value_counts())"
   ]
  },
  {
   "cell_type": "code",
   "execution_count": 626,
   "metadata": {
    "collapsed": false
   },
   "outputs": [],
   "source": [
    "JobTitle.reset_index(inplace=True)"
   ]
  },
  {
   "cell_type": "code",
   "execution_count": 627,
   "metadata": {
    "collapsed": false
   },
   "outputs": [],
   "source": [
    "JobTitle.columns=['JobTitle', 'CountTitle']"
   ]
  },
  {
   "cell_type": "code",
   "execution_count": 628,
   "metadata": {
    "collapsed": false
   },
   "outputs": [
    {
     "data": {
      "text/html": [
       "<div>\n",
       "<table border=\"1\" class=\"dataframe\">\n",
       "  <thead>\n",
       "    <tr style=\"text-align: right;\">\n",
       "      <th></th>\n",
       "      <th>JobTitle</th>\n",
       "      <th>CountTitle</th>\n",
       "    </tr>\n",
       "  </thead>\n",
       "  <tbody>\n",
       "    <tr>\n",
       "      <th>0</th>\n",
       "      <td>Transit Operator</td>\n",
       "      <td>7036</td>\n",
       "    </tr>\n",
       "    <tr>\n",
       "      <th>1</th>\n",
       "      <td>Special Nurse</td>\n",
       "      <td>4389</td>\n",
       "    </tr>\n",
       "    <tr>\n",
       "      <th>...</th>\n",
       "      <td>...</td>\n",
       "      <td>...</td>\n",
       "    </tr>\n",
       "    <tr>\n",
       "      <th>2156</th>\n",
       "      <td>TRACK MAINTENANCE SUPERINTENDENT,MUNICIPAL RAI...</td>\n",
       "      <td>1</td>\n",
       "    </tr>\n",
       "    <tr>\n",
       "      <th>2157</th>\n",
       "      <td>CHIEF ELECTRICAL INSPECTOR</td>\n",
       "      <td>1</td>\n",
       "    </tr>\n",
       "  </tbody>\n",
       "</table>\n",
       "<p>2158 rows × 2 columns</p>\n",
       "</div>"
      ],
      "text/plain": [
       "                                               JobTitle  CountTitle\n",
       "0                                      Transit Operator        7036\n",
       "1                                         Special Nurse        4389\n",
       "...                                                 ...         ...\n",
       "2156  TRACK MAINTENANCE SUPERINTENDENT,MUNICIPAL RAI...           1\n",
       "2157                         CHIEF ELECTRICAL INSPECTOR           1\n",
       "\n",
       "[2158 rows x 2 columns]"
      ]
     },
     "execution_count": 628,
     "metadata": {},
     "output_type": "execute_result"
    }
   ],
   "source": [
    "JobTitle"
   ]
  },
  {
   "cell_type": "markdown",
   "metadata": {},
   "source": [
    "### Added count of job title to be able to filter the most common/uncommon titles"
   ]
  },
  {
   "cell_type": "code",
   "execution_count": 629,
   "metadata": {
    "collapsed": true
   },
   "outputs": [],
   "source": [
    "salaries = salaries.merge(JobTitle, how='left', on='JobTitle')"
   ]
  },
  {
   "cell_type": "code",
   "execution_count": 630,
   "metadata": {
    "collapsed": true
   },
   "outputs": [],
   "source": [
    "salaries.TotalPayBenefits = salaries.TotalPayBenefits.astype(float)"
   ]
  },
  {
   "cell_type": "code",
   "execution_count": 631,
   "metadata": {
    "collapsed": false,
    "scrolled": true
   },
   "outputs": [
    {
     "data": {
      "text/html": [
       "<div>\n",
       "<table border=\"1\" class=\"dataframe\">\n",
       "  <thead>\n",
       "    <tr style=\"text-align: right;\">\n",
       "      <th></th>\n",
       "      <th>Id</th>\n",
       "      <th>EmployeeName</th>\n",
       "      <th>JobTitle</th>\n",
       "      <th>BasePay</th>\n",
       "      <th>OvertimePay</th>\n",
       "      <th>OtherPay</th>\n",
       "      <th>Benefits</th>\n",
       "      <th>TotalPay</th>\n",
       "      <th>TotalPayBenefits</th>\n",
       "      <th>Year</th>\n",
       "      <th>Status</th>\n",
       "      <th>CountTitle</th>\n",
       "    </tr>\n",
       "  </thead>\n",
       "  <tbody>\n",
       "    <tr>\n",
       "      <th>36156</th>\n",
       "      <td>36157</td>\n",
       "      <td>PAULETTE ADAMS</td>\n",
       "      <td>STATIONARY ENGINEER, WATER TREATMENT PLANT</td>\n",
       "      <td>0.0</td>\n",
       "      <td>0.0</td>\n",
       "      <td>0.0</td>\n",
       "      <td>NaN</td>\n",
       "      <td>0.0</td>\n",
       "      <td>0.0</td>\n",
       "      <td>2011</td>\n",
       "      <td>NaN</td>\n",
       "      <td>47</td>\n",
       "    </tr>\n",
       "    <tr>\n",
       "      <th>36157</th>\n",
       "      <td>36158</td>\n",
       "      <td>KAUKAB MOHSIN</td>\n",
       "      <td>TRANSIT OPERATOR</td>\n",
       "      <td>0.0</td>\n",
       "      <td>0.0</td>\n",
       "      <td>0.0</td>\n",
       "      <td>NaN</td>\n",
       "      <td>0.0</td>\n",
       "      <td>0.0</td>\n",
       "      <td>2011</td>\n",
       "      <td>NaN</td>\n",
       "      <td>2388</td>\n",
       "    </tr>\n",
       "    <tr>\n",
       "      <th>...</th>\n",
       "      <td>...</td>\n",
       "      <td>...</td>\n",
       "      <td>...</td>\n",
       "      <td>...</td>\n",
       "      <td>...</td>\n",
       "      <td>...</td>\n",
       "      <td>...</td>\n",
       "      <td>...</td>\n",
       "      <td>...</td>\n",
       "      <td>...</td>\n",
       "      <td>...</td>\n",
       "      <td>...</td>\n",
       "    </tr>\n",
       "    <tr>\n",
       "      <th>148647</th>\n",
       "      <td>148649</td>\n",
       "      <td>Leon Walker</td>\n",
       "      <td>Custodian</td>\n",
       "      <td>0.00</td>\n",
       "      <td>0.00</td>\n",
       "      <td>0.00</td>\n",
       "      <td>0.00</td>\n",
       "      <td>0.0</td>\n",
       "      <td>0.0</td>\n",
       "      <td>2014</td>\n",
       "      <td>PT</td>\n",
       "      <td>2418</td>\n",
       "    </tr>\n",
       "    <tr>\n",
       "      <th>148648</th>\n",
       "      <td>148650</td>\n",
       "      <td>Roy I Tillery</td>\n",
       "      <td>Custodian</td>\n",
       "      <td>0.00</td>\n",
       "      <td>0.00</td>\n",
       "      <td>0.00</td>\n",
       "      <td>0.00</td>\n",
       "      <td>0.0</td>\n",
       "      <td>0.0</td>\n",
       "      <td>2014</td>\n",
       "      <td>PT</td>\n",
       "      <td>2418</td>\n",
       "    </tr>\n",
       "  </tbody>\n",
       "</table>\n",
       "<p>26 rows × 12 columns</p>\n",
       "</div>"
      ],
      "text/plain": [
       "            Id    EmployeeName                                    JobTitle  \\\n",
       "36156    36157  PAULETTE ADAMS  STATIONARY ENGINEER, WATER TREATMENT PLANT   \n",
       "36157    36158   KAUKAB MOHSIN                            TRANSIT OPERATOR   \n",
       "...        ...             ...                                         ...   \n",
       "148647  148649     Leon Walker                                   Custodian   \n",
       "148648  148650   Roy I Tillery                                   Custodian   \n",
       "\n",
       "       BasePay OvertimePay OtherPay Benefits TotalPay  TotalPayBenefits  Year  \\\n",
       "36156      0.0         0.0      0.0      NaN      0.0               0.0  2011   \n",
       "36157      0.0         0.0      0.0      NaN      0.0               0.0  2011   \n",
       "...        ...         ...      ...      ...      ...               ...   ...   \n",
       "148647    0.00        0.00     0.00     0.00      0.0               0.0  2014   \n",
       "148648    0.00        0.00     0.00     0.00      0.0               0.0  2014   \n",
       "\n",
       "       Status  CountTitle  \n",
       "36156     NaN          47  \n",
       "36157     NaN        2388  \n",
       "...       ...         ...  \n",
       "148647     PT        2418  \n",
       "148648     PT        2418  \n",
       "\n",
       "[26 rows x 12 columns]"
      ]
     },
     "execution_count": 631,
     "metadata": {},
     "output_type": "execute_result"
    }
   ],
   "source": [
    "salaries[salaries['TotalPayBenefits']==0.00]"
   ]
  },
  {
   "cell_type": "markdown",
   "metadata": {},
   "source": [
    "### Clean TotalPayBenefits == 0, because they do not show any useful information"
   ]
  },
  {
   "cell_type": "code",
   "execution_count": 632,
   "metadata": {
    "collapsed": true
   },
   "outputs": [],
   "source": [
    "salaries = salaries.ix[salaries.TotalPayBenefits != 0.00]"
   ]
  },
  {
   "cell_type": "code",
   "execution_count": 633,
   "metadata": {
    "collapsed": false
   },
   "outputs": [
    {
     "data": {
      "text/html": [
       "<div>\n",
       "<table border=\"1\" class=\"dataframe\">\n",
       "  <thead>\n",
       "    <tr style=\"text-align: right;\">\n",
       "      <th></th>\n",
       "      <th>Id</th>\n",
       "      <th>EmployeeName</th>\n",
       "      <th>JobTitle</th>\n",
       "      <th>BasePay</th>\n",
       "      <th>OvertimePay</th>\n",
       "      <th>OtherPay</th>\n",
       "      <th>Benefits</th>\n",
       "      <th>TotalPay</th>\n",
       "      <th>TotalPayBenefits</th>\n",
       "      <th>Year</th>\n",
       "      <th>Status</th>\n",
       "      <th>CountTitle</th>\n",
       "    </tr>\n",
       "  </thead>\n",
       "  <tbody>\n",
       "    <tr>\n",
       "      <th>110528</th>\n",
       "      <td>110529</td>\n",
       "      <td>Timothy E Gibson</td>\n",
       "      <td>Police Officer 3</td>\n",
       "      <td>NaN</td>\n",
       "      <td>0.0</td>\n",
       "      <td>0.0</td>\n",
       "      <td>-2.73</td>\n",
       "      <td>0.0</td>\n",
       "      <td>-2.73</td>\n",
       "      <td>2013</td>\n",
       "      <td>NaN</td>\n",
       "      <td>2421</td>\n",
       "    </tr>\n",
       "    <tr>\n",
       "      <th>110529</th>\n",
       "      <td>110530</td>\n",
       "      <td>Mark E Laherty</td>\n",
       "      <td>Police Officer 3</td>\n",
       "      <td>NaN</td>\n",
       "      <td>0.0</td>\n",
       "      <td>0.0</td>\n",
       "      <td>-8.2</td>\n",
       "      <td>0.0</td>\n",
       "      <td>-8.20</td>\n",
       "      <td>2013</td>\n",
       "      <td>NaN</td>\n",
       "      <td>2421</td>\n",
       "    </tr>\n",
       "    <tr>\n",
       "      <th>110530</th>\n",
       "      <td>110531</td>\n",
       "      <td>David P Kucia</td>\n",
       "      <td>Police Officer 3</td>\n",
       "      <td>NaN</td>\n",
       "      <td>0.0</td>\n",
       "      <td>0.0</td>\n",
       "      <td>-33.89</td>\n",
       "      <td>0.0</td>\n",
       "      <td>-33.89</td>\n",
       "      <td>2013</td>\n",
       "      <td>NaN</td>\n",
       "      <td>2421</td>\n",
       "    </tr>\n",
       "    <tr>\n",
       "      <th>148649</th>\n",
       "      <td>148654</td>\n",
       "      <td>Joe Lopez</td>\n",
       "      <td>Counselor, Log Cabin Ranch</td>\n",
       "      <td>0.00</td>\n",
       "      <td>0.00</td>\n",
       "      <td>-618.13</td>\n",
       "      <td>0.00</td>\n",
       "      <td>-618.13</td>\n",
       "      <td>-618.13</td>\n",
       "      <td>2014</td>\n",
       "      <td>PT</td>\n",
       "      <td>63</td>\n",
       "    </tr>\n",
       "  </tbody>\n",
       "</table>\n",
       "</div>"
      ],
      "text/plain": [
       "            Id      EmployeeName                    JobTitle BasePay  \\\n",
       "110528  110529  Timothy E Gibson            Police Officer 3     NaN   \n",
       "110529  110530    Mark E Laherty            Police Officer 3     NaN   \n",
       "110530  110531     David P Kucia            Police Officer 3     NaN   \n",
       "148649  148654         Joe Lopez  Counselor, Log Cabin Ranch    0.00   \n",
       "\n",
       "       OvertimePay OtherPay Benefits TotalPay  TotalPayBenefits  Year Status  \\\n",
       "110528         0.0      0.0    -2.73      0.0             -2.73  2013    NaN   \n",
       "110529         0.0      0.0     -8.2      0.0             -8.20  2013    NaN   \n",
       "110530         0.0      0.0   -33.89      0.0            -33.89  2013    NaN   \n",
       "148649        0.00  -618.13     0.00  -618.13           -618.13  2014     PT   \n",
       "\n",
       "        CountTitle  \n",
       "110528        2421  \n",
       "110529        2421  \n",
       "110530        2421  \n",
       "148649          63  "
      ]
     },
     "execution_count": 633,
     "metadata": {},
     "output_type": "execute_result"
    }
   ],
   "source": [
    "salaries[salaries['TotalPayBenefits']<0.00]"
   ]
  },
  {
   "cell_type": "markdown",
   "metadata": {},
   "source": [
    "### There are 4 workers with TotalPayBenefits < 0 . At this moment I see no use for them, so I will keep them separated from the rest of the dataset in a dataframe named negatives"
   ]
  },
  {
   "cell_type": "code",
   "execution_count": 634,
   "metadata": {
    "collapsed": true
   },
   "outputs": [],
   "source": [
    "negatives = salaries[salaries['TotalPayBenefits']<0.00]"
   ]
  },
  {
   "cell_type": "code",
   "execution_count": 635,
   "metadata": {
    "collapsed": false
   },
   "outputs": [],
   "source": [
    "salaries = salaries[salaries['TotalPayBenefits']>0.00]"
   ]
  },
  {
   "cell_type": "code",
   "execution_count": 636,
   "metadata": {
    "collapsed": false
   },
   "outputs": [],
   "source": [
    "salaries_by_title = salaries.ix[salaries.CountTitle>1000, ['Year', 'JobTitle', 'TotalPayBenefits']]\n",
    "salaries_by_title = DataFrame(salaries_by_title.groupby(by=['JobTitle', 'Year']).mean()).reset_index() "
   ]
  },
  {
   "cell_type": "markdown",
   "metadata": {},
   "source": [
    "### Only 3 titles have salaries in 2011"
   ]
  },
  {
   "cell_type": "code",
   "execution_count": 637,
   "metadata": {
    "collapsed": false,
    "scrolled": true
   },
   "outputs": [
    {
     "data": {
      "text/html": [
       "<div>\n",
       "<table border=\"1\" class=\"dataframe\">\n",
       "  <thead>\n",
       "    <tr style=\"text-align: right;\">\n",
       "      <th></th>\n",
       "      <th>JobTitle</th>\n",
       "      <th>Year</th>\n",
       "      <th>TotalPayBenefits</th>\n",
       "    </tr>\n",
       "  </thead>\n",
       "  <tbody>\n",
       "    <tr>\n",
       "      <th>36</th>\n",
       "      <td>REGISTERED NURSE</td>\n",
       "      <td>2011</td>\n",
       "      <td>106621.140689</td>\n",
       "    </tr>\n",
       "    <tr>\n",
       "      <th>43</th>\n",
       "      <td>SPECIAL NURSE</td>\n",
       "      <td>2011</td>\n",
       "      <td>31325.075942</td>\n",
       "    </tr>\n",
       "    <tr>\n",
       "      <th>50</th>\n",
       "      <td>TRANSIT OPERATOR</td>\n",
       "      <td>2011</td>\n",
       "      <td>61768.502560</td>\n",
       "    </tr>\n",
       "  </tbody>\n",
       "</table>\n",
       "</div>"
      ],
      "text/plain": [
       "            JobTitle  Year  TotalPayBenefits\n",
       "36  REGISTERED NURSE  2011     106621.140689\n",
       "43     SPECIAL NURSE  2011      31325.075942\n",
       "50  TRANSIT OPERATOR  2011      61768.502560"
      ]
     },
     "execution_count": 637,
     "metadata": {},
     "output_type": "execute_result"
    }
   ],
   "source": [
    "salaries_by_title[salaries_by_title.Year=='2011']"
   ]
  },
  {
   "cell_type": "code",
   "execution_count": 638,
   "metadata": {
    "collapsed": false
   },
   "outputs": [
    {
     "data": {
      "image/png": "[encoded data removed]",
      "text/plain": [
       "<matplotlib.figure.Figure at 0x7f614f718358>"
      ]
     },
     "metadata": {},
     "output_type": "display_data"
    }
   ],
   "source": [
    "fig = plt.figure()\n",
    "ax = plt.subplot(111)\n",
    "color=iter(sns.color_palette(\"hls\", 21))\n",
    "\n",
    "\n",
    "\n",
    "for titles in salaries_by_title['JobTitle'].unique():\n",
    "    c=next(color)\n",
    "    salaries_by_title.ix[salaries_by_title['JobTitle']==titles].sort_values(by='Year')\\\n",
    "    .plot(x = 'Year', y= 'TotalPayBenefits', figsize=[8,6], legend=True, title=\"Salary per Year\", label=titles, \\\n",
    "          ax=ax, c=c)\n",
    "    \n",
    "    # Shrink current axis by 20%\n",
    "    #box = ax.get_position()\n",
    "    #ax.set_position([box.x0, box.y0, box.width * 0.8, box.height])\n",
    "\n",
    "    # Put a legend to the right of the current axis\n",
    "    #plt.legend(loc='center left', bbox_to_anchor=(200, 0.5))\n",
    "    plt.legend(bbox_to_anchor=(1.3, 0.9), bbox_transform=plt.gcf().transFigure)\n",
    "    #legend(loc='upper left', bbox_to_anchor=(0.5, 1.05))"
   ]
  },
  {
   "cell_type": "markdown",
   "metadata": {},
   "source": [
    "### The graphic above does not show any relevant information, so let´s change the strategy"
   ]
  },
  {
   "cell_type": "code",
   "execution_count": 639,
   "metadata": {
    "collapsed": false
   },
   "outputs": [],
   "source": [
    "pivot = salaries.ix[:, ['Year', 'JobTitle', 'TotalPayBenefits']]\n",
    "pivot = DataFrame(pivot.groupby(by=['JobTitle', 'Year']).mean()).reset_index() \n",
    "pivot = pivot.pivot( 'JobTitle', 'Year', 'TotalPayBenefits').reset_index()"
   ]
  },
  {
   "cell_type": "code",
   "execution_count": 640,
   "metadata": {
    "collapsed": false,
    "scrolled": true
   },
   "outputs": [],
   "source": [
    "pivot.columns=['JobTitle', 'Year2011', 'Year2012', 'Year2013', 'Year2014']"
   ]
  },
  {
   "cell_type": "markdown",
   "metadata": {},
   "source": [
    "### Let's take a look at JobPositions with totalPayBenefits != 0 in 2011"
   ]
  },
  {
   "cell_type": "code",
   "execution_count": 641,
   "metadata": {
    "collapsed": false
   },
   "outputs": [
    {
     "name": "stdout",
     "output_type": "stream",
     "text": [
      "Titles with 2011 not null and 2012 null: 0\n",
      "Titles with 2011 not null and 2013 null: 0\n",
      "Titles with 2011 not null and 2014 null: 0\n"
     ]
    }
   ],
   "source": [
    "pivot_2011 = pivot[pivot.Year2011.notnull()]\n",
    "print('Titles with 2011 not null and 2012 null: '+ str(pivot_2011[pivot_2011.Year2012.notnull()].shape[0]))\n",
    "print('Titles with 2011 not null and 2013 null: '+ str(pivot_2011[pivot_2011.Year2013.notnull()].shape[0]))\n",
    "print('Titles with 2011 not null and 2014 null: '+ str(pivot_2011[pivot_2011.Year2014.notnull()].shape[0]))"
   ]
  },
  {
   "cell_type": "markdown",
   "metadata": {},
   "source": [
    "### Based on the analysis above we can conclude that everyone that has salary in 2011 do not have any entry in the other years, so for salary increase by year they are not relevant"
   ]
  },
  {
   "cell_type": "code",
   "execution_count": 642,
   "metadata": {
    "collapsed": true
   },
   "outputs": [],
   "source": [
    "#Free some memory\n",
    "del(pivot_2011)\n",
    "#discard JobTitles that have salary in 2011\n",
    "pivot = pivot[pivot.Year2011.isnull()]\n",
    "#drop 2011 year coluumn\n",
    "pivot.drop('Year2011', axis=1, inplace=True)"
   ]
  },
  {
   "cell_type": "code",
   "execution_count": 643,
   "metadata": {
    "collapsed": false
   },
   "outputs": [
    {
     "data": {
      "text/html": [
       "<div>\n",
       "<table border=\"1\" class=\"dataframe\">\n",
       "  <thead>\n",
       "    <tr style=\"text-align: right;\">\n",
       "      <th></th>\n",
       "      <th>JobTitle</th>\n",
       "      <th>Year2012</th>\n",
       "      <th>Year2013</th>\n",
       "      <th>Year2014</th>\n",
       "    </tr>\n",
       "  </thead>\n",
       "  <tbody>\n",
       "    <tr>\n",
       "      <th>3</th>\n",
       "      <td>ACPO,JuvP, Juv Prob (SFERS)</td>\n",
       "      <td>NaN</td>\n",
       "      <td>NaN</td>\n",
       "      <td>80266.370000</td>\n",
       "    </tr>\n",
       "    <tr>\n",
       "      <th>50</th>\n",
       "      <td>ASR Senior Office Specialist</td>\n",
       "      <td>87848.418824</td>\n",
       "      <td>94691.889524</td>\n",
       "      <td>87522.792727</td>\n",
       "    </tr>\n",
       "    <tr>\n",
       "      <th>...</th>\n",
       "      <td>...</td>\n",
       "      <td>...</td>\n",
       "      <td>...</td>\n",
       "      <td>...</td>\n",
       "    </tr>\n",
       "    <tr>\n",
       "      <th>2154</th>\n",
       "      <td>X-Ray Laboratory Aide</td>\n",
       "      <td>75778.306774</td>\n",
       "      <td>64605.606176</td>\n",
       "      <td>68754.120000</td>\n",
       "    </tr>\n",
       "    <tr>\n",
       "      <th>2156</th>\n",
       "      <td>Youth Comm Advisor</td>\n",
       "      <td>85774.390000</td>\n",
       "      <td>51344.310000</td>\n",
       "      <td>52011.190000</td>\n",
       "    </tr>\n",
       "  </tbody>\n",
       "</table>\n",
       "<p>1113 rows × 4 columns</p>\n",
       "</div>"
      ],
      "text/plain": [
       "                          JobTitle      Year2012      Year2013      Year2014\n",
       "3      ACPO,JuvP, Juv Prob (SFERS)           NaN           NaN  80266.370000\n",
       "50    ASR Senior Office Specialist  87848.418824  94691.889524  87522.792727\n",
       "...                            ...           ...           ...           ...\n",
       "2154         X-Ray Laboratory Aide  75778.306774  64605.606176  68754.120000\n",
       "2156            Youth Comm Advisor  85774.390000  51344.310000  52011.190000\n",
       "\n",
       "[1113 rows x 4 columns]"
      ]
     },
     "execution_count": 643,
     "metadata": {},
     "output_type": "execute_result"
    }
   ],
   "source": [
    "pivot"
   ]
  },
  {
   "cell_type": "markdown",
   "metadata": {},
   "source": [
    "### Let's take a look at 2013 salary increase by title"
   ]
  },
  {
   "cell_type": "code",
   "execution_count": 644,
   "metadata": {
    "collapsed": false
   },
   "outputs": [],
   "source": [
    "# fill na with -9999\n",
    "pivot.fillna(value=-9999, inplace=True)\n",
    "for jobtitle in pivot['JobTitle']:\n",
    "    sal2012 = pivot.ix[pivot['JobTitle']==jobtitle, 'Year2012'].values[0]\n",
    "    sal2013 = pivot.ix[pivot['JobTitle']==jobtitle, 'Year2013'].values[0]\n",
    "    if ((sal2012!=-9999) & (sal2013!=-9999)):\n",
    "        pivot.ix[pivot['JobTitle']==jobtitle, 'Increase2013'] = (((sal2013-sal2012)*100)/sal2012)"
   ]
  },
  {
   "cell_type": "markdown",
   "metadata": {},
   "source": [
    "### Let´s create a DF with the top 5 best and top 5 worst salaries increase in 2013"
   ]
  },
  {
   "cell_type": "code",
   "execution_count": 645,
   "metadata": {
    "collapsed": true
   },
   "outputs": [],
   "source": [
    "bestworst2013 = pivot.ix[pivot['Increase2013'].notnull()].sort_values('Increase2013').head(5)\n",
    "bestworst2013 = pd.concat([bestworst2013, pivot.ix[pivot['Increase2013'].notnull()].sort_values('Increase2013').tail(5)])"
   ]
  },
  {
   "cell_type": "code",
   "execution_count": 646,
   "metadata": {
    "collapsed": false
   },
   "outputs": [
    {
     "data": {
      "text/plain": [
       "([<matplotlib.axis.YTick at 0x7f614fd76198>,\n",
       "  <matplotlib.axis.YTick at 0x7f614f34d898>,\n",
       "  <matplotlib.axis.YTick at 0x7f614fd61320>,\n",
       "  <matplotlib.axis.YTick at 0x7f614fa87400>,\n",
       "  <matplotlib.axis.YTick at 0x7f614faa60f0>,\n",
       "  <matplotlib.axis.YTick at 0x7f614faa6f60>,\n",
       "  <matplotlib.axis.YTick at 0x7f614f32c898>,\n",
       "  <matplotlib.axis.YTick at 0x7f614f32bbe0>,\n",
       "  <matplotlib.axis.YTick at 0x7f614f31c128>,\n",
       "  <matplotlib.axis.YTick at 0x7f614f315828>],\n",
       " <a list of 10 Text yticklabel objects>)"
      ]
     },
     "execution_count": 646,
     "metadata": {},
     "output_type": "execute_result"
    },
    {
     "data": {
      "image/png": "[encoded data removed]",
      "text/plain": [
       "<matplotlib.figure.Figure at 0x7f614d5eb668>"
      ]
     },
     "metadata": {},
     "output_type": "display_data"
    }
   ],
   "source": [
    "ind = np.arange(10)\n",
    "height = 0.35\n",
    "barh(ind, bestworst2013.Increase2013, height, color=sns.color_palette(\"hls\", 10), align='center')\n",
    "xlabel('Salary Increase')\n",
    "ylabel('Basepay mean')\n",
    "title('Top 5 and Worth 5 salary increase in 2013 (in%)')\n",
    "yticks(ind , bestworst2013.JobTitle)"
   ]
  },
  {
   "cell_type": "markdown",
   "metadata": {},
   "source": [
    "### Let's take a look at 2014 salary increase by title"
   ]
  },
  {
   "cell_type": "code",
   "execution_count": 647,
   "metadata": {
    "collapsed": true
   },
   "outputs": [],
   "source": [
    "for jobtitle in pivot['JobTitle']:\n",
    "    sal2013 = pivot.ix[pivot['JobTitle']==jobtitle, 'Year2013'].values[0]\n",
    "    sal2014 = pivot.ix[pivot['JobTitle']==jobtitle, 'Year2014'].values[0]\n",
    "    if ((sal2013!=-9999) & (sal2014!=-9999)):\n",
    "        pivot.ix[pivot['JobTitle']==jobtitle, 'Increase2014'] = (((sal2014-sal2013)*100)/sal2013)"
   ]
  },
  {
   "cell_type": "markdown",
   "metadata": {},
   "source": [
    "### Let's create a DF with the top 5 best and top 5 worst salaries increase in 2014"
   ]
  },
  {
   "cell_type": "code",
   "execution_count": 648,
   "metadata": {
    "collapsed": true
   },
   "outputs": [],
   "source": [
    "bestworst2014 = pivot.ix[pivot['Increase2014'].notnull()].sort_values('Increase2014').head(5)\n",
    "bestworst2014 = pd.concat([bestworst2014, pivot.ix[pivot['Increase2014'].notnull()].sort_values('Increase2014').tail(5)])"
   ]
  },
  {
   "cell_type": "code",
   "execution_count": 649,
   "metadata": {
    "collapsed": false
   },
   "outputs": [
    {
     "data": {
      "text/plain": [
       "([<matplotlib.axis.YTick at 0x7f61544520f0>,\n",
       "  <matplotlib.axis.YTick at 0x7f614eeb3da0>,\n",
       "  <matplotlib.axis.YTick at 0x7f612f055898>,\n",
       "  <matplotlib.axis.YTick at 0x7f614f9d9f98>,\n",
       "  <matplotlib.axis.YTick at 0x7f614f9f44a8>,\n",
       "  <matplotlib.axis.YTick at 0x7f614f9c6e10>,\n",
       "  <matplotlib.axis.YTick at 0x7f6156b9a470>,\n",
       "  <matplotlib.axis.YTick at 0x7f6156b91ef0>,\n",
       "  <matplotlib.axis.YTick at 0x7f6156b74940>,\n",
       "  <matplotlib.axis.YTick at 0x7f614f9fc160>],\n",
       " <a list of 10 Text yticklabel objects>)"
      ]
     },
     "execution_count": 649,
     "metadata": {},
     "output_type": "execute_result"
    },
    {
     "data": {
      "image/png": "[encoded data removed]",
      "text/plain": [
       "<matplotlib.figure.Figure at 0x7f614fa87b70>"
      ]
     },
     "metadata": {},
     "output_type": "display_data"
    }
   ],
   "source": [
    "#ind = np.arange(10)\n",
    "#height = 0.35\n",
    "barh(ind, bestworst2014.Increase2014, height, color=sns.color_palette(\"hls\", 10), align='center')\n",
    "xlabel('Salary Increase')\n",
    "ylabel('Basepay mean')\n",
    "title('Top 5 and Worth 5 salary increase in 2014 (in%)')\n",
    "yticks(ind , bestworst2014.JobTitle)"
   ]
  },
  {
   "cell_type": "markdown",
   "metadata": {},
   "source": [
    "### Looks like Animal Control Supervisor is a outlier or a mistake. Let´s investigate"
   ]
  },
  {
   "cell_type": "code",
   "execution_count": 650,
   "metadata": {
    "collapsed": false
   },
   "outputs": [
    {
     "data": {
      "text/html": [
       "<div>\n",
       "<table border=\"1\" class=\"dataframe\">\n",
       "  <thead>\n",
       "    <tr style=\"text-align: right;\">\n",
       "      <th></th>\n",
       "      <th>Id</th>\n",
       "      <th>EmployeeName</th>\n",
       "      <th>JobTitle</th>\n",
       "      <th>BasePay</th>\n",
       "      <th>OvertimePay</th>\n",
       "      <th>OtherPay</th>\n",
       "      <th>Benefits</th>\n",
       "      <th>TotalPay</th>\n",
       "      <th>TotalPayBenefits</th>\n",
       "      <th>Year</th>\n",
       "      <th>Status</th>\n",
       "      <th>CountTitle</th>\n",
       "    </tr>\n",
       "  </thead>\n",
       "  <tbody>\n",
       "    <tr>\n",
       "      <th>68999</th>\n",
       "      <td>69000</td>\n",
       "      <td>Kent Cunningham</td>\n",
       "      <td>Animal Control Supervisor</td>\n",
       "      <td>6627.0</td>\n",
       "      <td>0.0</td>\n",
       "      <td>0.0</td>\n",
       "      <td>3279.22</td>\n",
       "      <td>6627.0</td>\n",
       "      <td>9906.22</td>\n",
       "      <td>2012</td>\n",
       "      <td>NaN</td>\n",
       "      <td>3</td>\n",
       "    </tr>\n",
       "    <tr>\n",
       "      <th>109811</th>\n",
       "      <td>109812</td>\n",
       "      <td>Kent A Cunningham</td>\n",
       "      <td>Animal Control Supervisor</td>\n",
       "      <td>662.7</td>\n",
       "      <td>0.0</td>\n",
       "      <td>25.4</td>\n",
       "      <td>294.41</td>\n",
       "      <td>688.1</td>\n",
       "      <td>982.51</td>\n",
       "      <td>2013</td>\n",
       "      <td>NaN</td>\n",
       "      <td>3</td>\n",
       "    </tr>\n",
       "    <tr>\n",
       "      <th>127013</th>\n",
       "      <td>127014</td>\n",
       "      <td>Denise J Bon Giovanni</td>\n",
       "      <td>Animal Control Supervisor</td>\n",
       "      <td>64701.00</td>\n",
       "      <td>1418.16</td>\n",
       "      <td>15232.55</td>\n",
       "      <td>28242.50</td>\n",
       "      <td>81351.71</td>\n",
       "      <td>109594.21</td>\n",
       "      <td>2014</td>\n",
       "      <td>FT</td>\n",
       "      <td>3</td>\n",
       "    </tr>\n",
       "  </tbody>\n",
       "</table>\n",
       "</div>"
      ],
      "text/plain": [
       "            Id           EmployeeName                   JobTitle   BasePay  \\\n",
       "68999    69000        Kent Cunningham  Animal Control Supervisor    6627.0   \n",
       "109811  109812      Kent A Cunningham  Animal Control Supervisor     662.7   \n",
       "127013  127014  Denise J Bon Giovanni  Animal Control Supervisor  64701.00   \n",
       "\n",
       "       OvertimePay  OtherPay  Benefits  TotalPay  TotalPayBenefits  Year  \\\n",
       "68999          0.0       0.0   3279.22    6627.0           9906.22  2012   \n",
       "109811         0.0      25.4    294.41     688.1            982.51  2013   \n",
       "127013     1418.16  15232.55  28242.50  81351.71         109594.21  2014   \n",
       "\n",
       "       Status  CountTitle  \n",
       "68999     NaN           3  \n",
       "109811    NaN           3  \n",
       "127013     FT           3  "
      ]
     },
     "execution_count": 650,
     "metadata": {},
     "output_type": "execute_result"
    }
   ],
   "source": [
    "salaries.ix[salaries.JobTitle==\"Animal Control Supervisor\"]"
   ]
  },
  {
   "cell_type": "markdown",
   "metadata": {},
   "source": [
    "JobTitle Animal Control Supervisor has 3 entries, 1 per year and there is a big diference between the years because it is related to 3 different professionals. If we look a bit closer at Kent A Cunningham and Kent Cunningham, they look like the same person, but the BasePay in 2013 seems to have a problem in the decimal indicator. It´s 662.7 instead of 6627. The same analysis can bem made on Benefits. Apart from that, if we look at 2014 data, the values are 10x bigger than 2012. Denise J Bon Giovanni looks like an outlier. At this moment, let's eliminate this case and look at the results"
   ]
  },
  {
   "cell_type": "code",
   "execution_count": 651,
   "metadata": {
    "collapsed": true
   },
   "outputs": [],
   "source": [
    "pivot.drop('Increase2014', axis=1, inplace=True)\n",
    "for jobtitle in pivot.ix[pivot.JobTitle != 'Animal Control Supervisor', 'JobTitle']:\n",
    "    sal2013 = pivot.ix[pivot['JobTitle']==jobtitle, 'Year2013'].values[0]\n",
    "    sal2014 = pivot.ix[pivot['JobTitle']==jobtitle, 'Year2014'].values[0]\n",
    "    if ((sal2013!=-9999) & (sal2014!= -9999)):\n",
    "        pivot.ix[pivot['JobTitle']==jobtitle, 'Increase2014'] = (((sal2014-sal2013)*100)/sal2013)"
   ]
  },
  {
   "cell_type": "code",
   "execution_count": 652,
   "metadata": {
    "collapsed": true
   },
   "outputs": [],
   "source": [
    "bestworst2014 = pivot.ix[pivot['Increase2014'].notnull()].sort_values('Increase2014').head(5)\n",
    "bestworst2014 = pd.concat([bestworst2014, pivot.ix[pivot['Increase2014'].notnull()].sort_values('Increase2014').tail(5)])"
   ]
  },
  {
   "cell_type": "code",
   "execution_count": 653,
   "metadata": {
    "collapsed": false
   },
   "outputs": [
    {
     "data": {
      "text/plain": [
       "([<matplotlib.axis.YTick at 0x7f614f3c8c50>,\n",
       "  <matplotlib.axis.YTick at 0x7f612e43a7b8>,\n",
       "  <matplotlib.axis.YTick at 0x7f614f3c5278>,\n",
       "  <matplotlib.axis.YTick at 0x7f61550d2b00>,\n",
       "  <matplotlib.axis.YTick at 0x7f61550a7be0>,\n",
       "  <matplotlib.axis.YTick at 0x7f614e7db668>,\n",
       "  <matplotlib.axis.YTick at 0x7f614e7de828>,\n",
       "  <matplotlib.axis.YTick at 0x7f614e7de630>,\n",
       "  <matplotlib.axis.YTick at 0x7f614e7d8668>,\n",
       "  <matplotlib.axis.YTick at 0x7f61550ceef0>],\n",
       " <a list of 10 Text yticklabel objects>)"
      ]
     },
     "execution_count": 653,
     "metadata": {},
     "output_type": "execute_result"
    },
    {
     "data": {
      "image/png": "[encoded data removed]",
      "text/plain": [
       "<matplotlib.figure.Figure at 0x7f614f9e5518>"
      ]
     },
     "metadata": {},
     "output_type": "display_data"
    }
   ],
   "source": [
    "barh(ind, bestworst2014.Increase2014, height, color=sns.color_palette(\"hls\", 10), align='center')\n",
    "xlabel('Salary Increase')\n",
    "ylabel('Basepay mean')\n",
    "title('Top 5 and Worth 5 salary increase in 2014 (in %)')\n",
    "yticks(ind , bestworst2014.JobTitle)"
   ]
  },
  {
   "cell_type": "markdown",
   "metadata": {},
   "source": [
    "### The above graphic looks much better than the previous graphic for 2014"
   ]
  },
  {
   "cell_type": "markdown",
   "metadata": {},
   "source": [
    "### Now, lets look at the frequency that thos jobs appear in our dataset"
   ]
  },
  {
   "cell_type": "code",
   "execution_count": 654,
   "metadata": {
    "collapsed": false
   },
   "outputs": [
    {
     "data": {
      "text/html": [
       "<div>\n",
       "<table border=\"1\" class=\"dataframe\">\n",
       "  <thead>\n",
       "    <tr style=\"text-align: right;\">\n",
       "      <th></th>\n",
       "      <th>JobTitle</th>\n",
       "      <th>Year2012</th>\n",
       "      <th>Year2013</th>\n",
       "      <th>Year2014</th>\n",
       "      <th>Increase2013</th>\n",
       "      <th>CountTitle</th>\n",
       "    </tr>\n",
       "  </thead>\n",
       "  <tbody>\n",
       "    <tr>\n",
       "      <th>1799</th>\n",
       "      <td>Senior Assessment Clerk</td>\n",
       "      <td>39149.185</td>\n",
       "      <td>20.730</td>\n",
       "      <td>-9999.0</td>\n",
       "      <td>-99.947049</td>\n",
       "      <td>3.0</td>\n",
       "    </tr>\n",
       "    <tr>\n",
       "      <th>1891</th>\n",
       "      <td>Special Assistant 14</td>\n",
       "      <td>36873.140</td>\n",
       "      <td>26.600</td>\n",
       "      <td>-9999.0</td>\n",
       "      <td>-99.927861</td>\n",
       "      <td>3.0</td>\n",
       "    </tr>\n",
       "    <tr>\n",
       "      <th>...</th>\n",
       "      <td>...</td>\n",
       "      <td>...</td>\n",
       "      <td>...</td>\n",
       "      <td>...</td>\n",
       "      <td>...</td>\n",
       "      <td>...</td>\n",
       "    </tr>\n",
       "    <tr>\n",
       "      <th>477</th>\n",
       "      <td>Child Support Officer I</td>\n",
       "      <td>9401.740</td>\n",
       "      <td>57454.305</td>\n",
       "      <td>-9999.0</td>\n",
       "      <td>511.102892</td>\n",
       "      <td>8.0</td>\n",
       "    </tr>\n",
       "    <tr>\n",
       "      <th>128</th>\n",
       "      <td>Administrative Analyst I</td>\n",
       "      <td>5907.330</td>\n",
       "      <td>60862.230</td>\n",
       "      <td>-9999.0</td>\n",
       "      <td>930.283224</td>\n",
       "      <td>2.0</td>\n",
       "    </tr>\n",
       "  </tbody>\n",
       "</table>\n",
       "<p>10 rows × 6 columns</p>\n",
       "</div>"
      ],
      "text/plain": [
       "                      JobTitle   Year2012   Year2013  Year2014  Increase2013  \\\n",
       "1799   Senior Assessment Clerk  39149.185     20.730   -9999.0    -99.947049   \n",
       "1891      Special Assistant 14  36873.140     26.600   -9999.0    -99.927861   \n",
       "...                        ...        ...        ...       ...           ...   \n",
       "477    Child Support Officer I   9401.740  57454.305   -9999.0    511.102892   \n",
       "128   Administrative Analyst I   5907.330  60862.230   -9999.0    930.283224   \n",
       "\n",
       "      CountTitle  \n",
       "1799         3.0  \n",
       "1891         3.0  \n",
       "...          ...  \n",
       "477          8.0  \n",
       "128          2.0  \n",
       "\n",
       "[10 rows x 6 columns]"
      ]
     },
     "execution_count": 654,
     "metadata": {},
     "output_type": "execute_result"
    }
   ],
   "source": [
    "for jobtitle in bestworst2013.JobTitle:\n",
    "    bestworst2013.ix[bestworst2013.JobTitle==jobtitle, 'CountTitle'] = \\\n",
    "    salaries.ix[salaries.JobTitle==jobtitle, 'CountTitle'].unique()\n",
    "bestworst2013"
   ]
  },
  {
   "cell_type": "code",
   "execution_count": 655,
   "metadata": {
    "collapsed": false
   },
   "outputs": [
    {
     "data": {
      "text/html": [
       "<div>\n",
       "<table border=\"1\" class=\"dataframe\">\n",
       "  <thead>\n",
       "    <tr style=\"text-align: right;\">\n",
       "      <th></th>\n",
       "      <th>JobTitle</th>\n",
       "      <th>Year2012</th>\n",
       "      <th>Year2013</th>\n",
       "      <th>Year2014</th>\n",
       "      <th>Increase2013</th>\n",
       "      <th>Increase2014</th>\n",
       "      <th>CountTitle</th>\n",
       "    </tr>\n",
       "  </thead>\n",
       "  <tbody>\n",
       "    <tr>\n",
       "      <th>1220</th>\n",
       "      <td>Mayoral Staff X</td>\n",
       "      <td>103382.35</td>\n",
       "      <td>113508.140</td>\n",
       "      <td>4294.13</td>\n",
       "      <td>9.794506</td>\n",
       "      <td>-96.216897</td>\n",
       "      <td>4.0</td>\n",
       "    </tr>\n",
       "    <tr>\n",
       "      <th>1892</th>\n",
       "      <td>Special Assistant 15</td>\n",
       "      <td>152565.41</td>\n",
       "      <td>110888.760</td>\n",
       "      <td>5650.86</td>\n",
       "      <td>-27.317234</td>\n",
       "      <td>-94.904028</td>\n",
       "      <td>3.0</td>\n",
       "    </tr>\n",
       "    <tr>\n",
       "      <th>...</th>\n",
       "      <td>...</td>\n",
       "      <td>...</td>\n",
       "      <td>...</td>\n",
       "      <td>...</td>\n",
       "      <td>...</td>\n",
       "      <td>...</td>\n",
       "      <td>...</td>\n",
       "    </tr>\n",
       "    <tr>\n",
       "      <th>223</th>\n",
       "      <td>Audiologist</td>\n",
       "      <td>143247.78</td>\n",
       "      <td>22151.445</td>\n",
       "      <td>124333.97</td>\n",
       "      <td>-84.536273</td>\n",
       "      <td>461.290561</td>\n",
       "      <td>4.0</td>\n",
       "    </tr>\n",
       "    <tr>\n",
       "      <th>1297</th>\n",
       "      <td>Orthopedic Technician 1</td>\n",
       "      <td>15897.47</td>\n",
       "      <td>11631.370</td>\n",
       "      <td>88804.13</td>\n",
       "      <td>-26.835088</td>\n",
       "      <td>663.488136</td>\n",
       "      <td>3.0</td>\n",
       "    </tr>\n",
       "  </tbody>\n",
       "</table>\n",
       "<p>10 rows × 7 columns</p>\n",
       "</div>"
      ],
      "text/plain": [
       "                     JobTitle   Year2012    Year2013   Year2014  Increase2013  \\\n",
       "1220          Mayoral Staff X  103382.35  113508.140    4294.13      9.794506   \n",
       "1892     Special Assistant 15  152565.41  110888.760    5650.86    -27.317234   \n",
       "...                       ...        ...         ...        ...           ...   \n",
       "223               Audiologist  143247.78   22151.445  124333.97    -84.536273   \n",
       "1297  Orthopedic Technician 1   15897.47   11631.370   88804.13    -26.835088   \n",
       "\n",
       "      Increase2014  CountTitle  \n",
       "1220    -96.216897         4.0  \n",
       "1892    -94.904028         3.0  \n",
       "...            ...         ...  \n",
       "223     461.290561         4.0  \n",
       "1297    663.488136         3.0  \n",
       "\n",
       "[10 rows x 7 columns]"
      ]
     },
     "execution_count": 655,
     "metadata": {},
     "output_type": "execute_result"
    }
   ],
   "source": [
    "for jobtitle in bestworst2014.JobTitle:\n",
    "    bestworst2014.ix[bestworst2014.JobTitle==jobtitle, 'CountTitle'] = \\\n",
    "    salaries.ix[salaries.JobTitle==jobtitle, 'CountTitle'].unique()\n",
    "bestworst2014"
   ]
  },
  {
   "cell_type": "markdown",
   "metadata": {},
   "source": [
    "By looking at the above dataframes and considering that we have more than 100k entries in the original dataset, the amount of data beeing considered in our analysis is not that big. As we don't know if the few entries for those jobtitles mean insignificant data or jobtitles rarity, we will continue the analysis"
   ]
  },
  {
   "cell_type": "markdown",
   "metadata": {},
   "source": [
    "### Now let's look if some title is part from the best/worst 2013/2014 samples"
   ]
  },
  {
   "cell_type": "code",
   "execution_count": 656,
   "metadata": {
    "collapsed": true
   },
   "outputs": [],
   "source": [
    "best20132014 = pd.merge(bestworst2013, bestworst2014, how='inner', on='JobTitle')"
   ]
  },
  {
   "cell_type": "code",
   "execution_count": 657,
   "metadata": {
    "collapsed": false
   },
   "outputs": [
    {
     "data": {
      "text/plain": [
       "0"
      ]
     },
     "execution_count": 657,
     "metadata": {},
     "output_type": "execute_result"
    }
   ],
   "source": [
    "best20132014.shape[0]"
   ]
  },
  {
   "cell_type": "markdown",
   "metadata": {},
   "source": [
    "based on the above analysis there is no Jobtitlein the top/worst 5 that appears both in 2013 and 2014"
   ]
  }
 ],
 "metadata": {
  "kernelspec": {
   "display_name": "Python 3",
   "language": "python",
   "name": "python3"
  },
  "language_info": {
   "codemirror_mode": {
    "name": "ipython",
    "version": 3
   },
   "file_extension": ".py",
   "mimetype": "text/x-python",
   "name": "python",
   "nbconvert_exporter": "python",
   "pygments_lexer": "ipython3",
   "version": "3.4.3"
  }
 },
 "nbformat": 4,
 "nbformat_minor": 0
}
